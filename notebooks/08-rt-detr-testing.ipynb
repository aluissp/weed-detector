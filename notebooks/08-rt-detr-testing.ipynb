{
 "cells": [
  {
   "cell_type": "markdown",
   "metadata": {},
   "source": [
    "# Test RT-DETR model\n",
    "To test the RT-DETR model, we will use test set from weeds dataset. The test set contains 70 images with 671 instances of potato, 574 instances of dandelion, 449 instances of kikuyo, 245 instances of broadleaf dock and 1008 instances of other plants.\n",
    "\n",
    "## Import RT-DETR model\n",
    "First, we need to import the RT-DETR model from ultralytics."
   ]
  },
  {
   "cell_type": "code",
   "execution_count": null,
   "metadata": {},
   "outputs": [],
   "source": [
    "from ultralytics import RTDETR"
   ]
  },
  {
   "cell_type": "markdown",
   "metadata": {},
   "source": [
    "## Set paths\n",
    "Then, we will set the paths for model and test set."
   ]
  },
  {
   "cell_type": "code",
   "execution_count": null,
   "metadata": {},
   "outputs": [],
   "source": [
    "model_path = '/path/to/model.pt'\n",
    "data_path = '/path/to/data.yaml'"
   ]
  },
  {
   "cell_type": "markdown",
   "metadata": {},
   "source": [
    "## Test the model\n",
    "We will load the model and test it."
   ]
  },
  {
   "cell_type": "code",
   "execution_count": null,
   "metadata": {},
   "outputs": [],
   "source": [
    "model = RTDETR(model_path)\n",
    "\n",
    "\n",
    "metrics = model.val(data=data_path, imgsz=1024, batch=32, save_json=True, plots=True, split='test')"
   ]
  },
  {
   "cell_type": "markdown",
   "metadata": {},
   "source": [
    "## Results\n",
    "Finally, we will show the results of the test."
   ]
  },
  {
   "cell_type": "code",
   "execution_count": null,
   "metadata": {},
   "outputs": [],
   "source": [
    "# Precision, Recall, mAP@.5, mAP@.5:.95\n",
    "metrics.box.mp, metrics.box.mr, metrics.box.map50, metrics.box.map"
   ]
  }
 ],
 "metadata": {
  "kernelspec": {
   "display_name": "Python 3",
   "language": "python",
   "name": "python3"
  },
  "language_info": {
   "codemirror_mode": {
    "name": "ipython",
    "version": 3
   },
   "file_extension": ".py",
   "mimetype": "text/x-python",
   "name": "python",
   "nbconvert_exporter": "python",
   "pygments_lexer": "ipython3",
   "version": "3.11.9"
  }
 },
 "nbformat": 4,
 "nbformat_minor": 2
}
