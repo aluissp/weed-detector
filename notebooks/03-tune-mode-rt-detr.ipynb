{
 "cells": [
  {
   "cell_type": "markdown",
   "id": "709104e2",
   "metadata": {
    "papermill": {
     "duration": 0.006429,
     "end_time": "2024-10-09T00:38:36.675253",
     "exception": false,
     "start_time": "2024-10-09T00:38:36.668824",
     "status": "completed"
    },
    "tags": []
   },
   "source": [
    "# Train rt-detr to detect weeds in potato fields\n",
    "\n",
    "In this notebook we'll train a [rt-detr](https://docs.ultralytics.com/models/rtdetr/) model to detect weeds in a potato fields. \n",
    "The target weeds are:\n",
    "- kikuyo\n",
    "- lengua de vaca\n",
    "- diente de león\n",
    "\n",
    "These weeds are common in potatoes fields. The images was captured in 9-10 meters height with a drone. Then, the images was selected and cropped \n",
    "to 1920x1920 pixels. Finally, the images was labeled with Roboflow."
   ]
  },
  {
   "cell_type": "markdown",
   "id": "2ad77a9a",
   "metadata": {
    "papermill": {
     "duration": 0.005444,
     "end_time": "2024-10-09T00:38:36.686536",
     "exception": false,
     "start_time": "2024-10-09T00:38:36.681092",
     "status": "completed"
    },
    "tags": [],
    "vscode": {
     "languageId": "plaintext"
    }
   },
   "source": [
    "## Install dependencies\n",
    "First of all, we'll check the GPU, and install the dependencies."
   ]
  },
  {
   "cell_type": "code",
   "execution_count": null,
   "id": "2af3c11c",
   "metadata": {
    "execution": {
     "iopub.execute_input": "2024-10-09T00:38:36.698935Z",
     "iopub.status.busy": "2024-10-09T00:38:36.698622Z",
     "iopub.status.idle": "2024-10-09T00:39:03.412890Z",
     "shell.execute_reply": "2024-10-09T00:39:03.411757Z"
    },
    "papermill": {
     "duration": 26.723028,
     "end_time": "2024-10-09T00:39:03.415255",
     "exception": false,
     "start_time": "2024-10-09T00:38:36.692227",
     "status": "completed"
    },
    "tags": []
   },
   "outputs": [],
   "source": [
    "!pip install -q torchmetrics ultralytics\n",
    "!pip install -q wandb ipywidgets --upgrade"
   ]
  },
  {
   "cell_type": "markdown",
   "id": "db118a78",
   "metadata": {
    "papermill": {
     "duration": 0.006753,
     "end_time": "2024-10-09T00:39:03.428124",
     "exception": false,
     "start_time": "2024-10-09T00:39:03.421371",
     "status": "completed"
    },
    "tags": []
   },
   "source": [
    "## Initialize weights & biases\n",
    "We'll use weights & biases to log the training process."
   ]
  },
  {
   "cell_type": "code",
   "execution_count": null,
   "id": "0531f5b0",
   "metadata": {
    "execution": {
     "iopub.execute_input": "2024-10-09T00:39:03.441605Z",
     "iopub.status.busy": "2024-10-09T00:39:03.440971Z",
     "iopub.status.idle": "2024-10-09T00:39:08.411507Z",
     "shell.execute_reply": "2024-10-09T00:39:08.410574Z"
    },
    "papermill": {
     "duration": 4.979868,
     "end_time": "2024-10-09T00:39:08.413807",
     "exception": false,
     "start_time": "2024-10-09T00:39:03.433939",
     "status": "completed"
    },
    "tags": []
   },
   "outputs": [],
   "source": [
    "import wandb\n",
    "from kaggle_secrets import UserSecretsClient\n",
    "\n",
    "project_name = '03-tune-mode-dataset'\n",
    "name = 'tune-mode-radam'\n",
    "user_secrets = UserSecretsClient()\n",
    "key = user_secrets.get_secret('wandb')\n",
    "\n",
    "\n",
    "wandb.login(key=key)\n",
    "wandb.init(\n",
    "    project=project_name,\n",
    "    name=name,\n",
    "    job_type='training',\n",
    "    tags=[project_name, 'radam', 'dataset-v4']\n",
    ")"
   ]
  },
  {
   "cell_type": "markdown",
   "id": "8a4b973a",
   "metadata": {
    "papermill": {
     "duration": 0.007064,
     "end_time": "2024-10-09T00:39:08.428385",
     "exception": false,
     "start_time": "2024-10-09T00:39:08.421321",
     "status": "completed"
    },
    "tags": []
   },
   "source": [
    "## Create data.yaml file\n",
    "We'll create a data.yaml file with the classes and the paths to the images."
   ]
  },
  {
   "cell_type": "code",
   "execution_count": 3,
   "id": "4bdd0591",
   "metadata": {
    "execution": {
     "iopub.execute_input": "2024-10-09T00:39:08.443677Z",
     "iopub.status.busy": "2024-10-09T00:39:08.443376Z",
     "iopub.status.idle": "2024-10-09T00:39:08.454584Z",
     "shell.execute_reply": "2024-10-09T00:39:08.453826Z"
    },
    "jupyter": {
     "source_hidden": true
    },
    "papermill": {
     "duration": 0.021282,
     "end_time": "2024-10-09T00:39:08.456577",
     "exception": false,
     "start_time": "2024-10-09T00:39:08.435295",
     "status": "completed"
    },
    "tags": []
   },
   "outputs": [],
   "source": [
    "import yaml\n",
    "\n",
    "base_config = {\n",
    "    'path': '/path/to/dataset',\n",
    "    'train': 'train/images',\n",
    "    'val': 'valid/images',\n",
    "    'test': 'test/images',\n",
    "    'names': {\n",
    "        0: 'class_a',\n",
    "        1: 'class_b',\n",
    "        2: 'class_c'\n",
    "    },\n",
    "}\n",
    "\n",
    "def create_data_file(data: dict = None, filename: str = 'data.yaml') -> str:\n",
    "    '''Create custom data.yaml file for training\n",
    "\n",
    "    Args:\n",
    "        data (dict): Data to write to configuration file\n",
    "        filename (str): Name of the configuration file\n",
    "\n",
    "    Returns:\n",
    "        str: Name of the configuration file\n",
    "    '''\n",
    "    data = data or {}\n",
    "\n",
    "    # Set default values if not provided\n",
    "    data['path'] = data['path'] if 'path' in data else base_config['path']\n",
    "    data['train'] = data['train'] if 'train' in data else base_config['train']\n",
    "    data['val'] = data['val'] if 'val' in data else base_config['val']\n",
    "    data['test'] = data['test'] if 'test' in data else base_config['test']\n",
    "    data['names'] = data['names'] if 'names' in data else base_config['names']\n",
    "\n",
    "    # Create configuration file\n",
    "    with open(filename, 'w') as file:\n",
    "        yaml.dump(data, file, default_flow_style=False)\n",
    "\n",
    "    return filename"
   ]
  },
  {
   "cell_type": "markdown",
   "id": "31f8adf6",
   "metadata": {
    "papermill": {
     "duration": 0.006861,
     "end_time": "2024-10-09T00:39:08.470357",
     "exception": false,
     "start_time": "2024-10-09T00:39:08.463496",
     "status": "completed"
    },
    "tags": []
   },
   "source": [
    "### Generate custom data.yaml file"
   ]
  },
  {
   "cell_type": "code",
   "execution_count": null,
   "id": "6fd0f1a7",
   "metadata": {
    "execution": {
     "iopub.execute_input": "2024-10-09T00:39:08.500287Z",
     "iopub.status.busy": "2024-10-09T00:39:08.499620Z",
     "iopub.status.idle": "2024-10-09T00:39:08.507318Z",
     "shell.execute_reply": "2024-10-09T00:39:08.506526Z"
    },
    "papermill": {
     "duration": 0.017844,
     "end_time": "2024-10-09T00:39:08.509181",
     "exception": false,
     "start_time": "2024-10-09T00:39:08.491337",
     "status": "completed"
    },
    "tags": []
   },
   "outputs": [],
   "source": [
    "data = {\n",
    "    'path': '/kaggle/input/potatoes-weeds-dataset/potatoes-dataset.v2.yolov8',\n",
    "    'names': {\n",
    "        0: 'diente_leon',\n",
    "        1: 'kikuyo',\n",
    "        2: 'lengua_vaca',\n",
    "        3: 'otros',\n",
    "        4: 'papa',\n",
    "    },\n",
    "}\n",
    "\n",
    "create_data_file(data)"
   ]
  },
  {
   "cell_type": "markdown",
   "id": "45dea748",
   "metadata": {
    "papermill": {
     "duration": 0.006798,
     "end_time": "2024-10-09T00:39:08.523066",
     "exception": false,
     "start_time": "2024-10-09T00:39:08.516268",
     "status": "completed"
    },
    "tags": []
   },
   "source": [
    "## Load default training settings \n",
    "We'll use the following default settings obtained from the [ultralytics repository](https://github.com/ultralytics/ultralytics/blob/main/ultralytics/cfg/default.yaml)."
   ]
  },
  {
   "cell_type": "code",
   "execution_count": null,
   "id": "1ebe5714",
   "metadata": {},
   "outputs": [],
   "source": [
    "default_config = {\n",
    "    # Train settings\n",
    "    'imgsz': 640,\n",
    "    'epochs': 100,\n",
    "    'patience': 100,\n",
    "    'batch': 16,\n",
    "    'optimizer': 'auto',\n",
    "    'cos_lr': False,\n",
    "    'close_mosaic': 10,\n",
    "    'save': True,\n",
    "    'verbose': True,\n",
    "    'dropout': 0.0,\n",
    "\n",
    "    # Val/Test settings\n",
    "    'val': True,\n",
    "    'split': 'val',\n",
    "    'save_json': True,\n",
    "    'plots': True,\n",
    "\n",
    "    # Hyperparameters\n",
    "    'lr0': 0.01,\n",
    "    'lrf': 0.01,\n",
    "    'momentum': 0.937,\n",
    "    'weight_decay': 0.0005,\n",
    "    'warmup_epochs': 3.0,\n",
    "    'warmup_momentum': 0.8,\n",
    "    'warmup_bias_lr': 0.1,\n",
    "    'box': 7.5,\n",
    "    'cls': 0.5,\n",
    "    'nbs': 64,\n",
    "    'hsv_h': 0.015,\n",
    "    'hsv_s': 0.7,\n",
    "    'hsv_v': 0.4,\n",
    "    'degrees': 0.0,\n",
    "    'translate': 0.1,\n",
    "    'scale': 0.5,\n",
    "    'shear': 0.0,\n",
    "    'perspective': 0.0,\n",
    "    'flipud': 0.0,\n",
    "    'fliplr': 0.5,\n",
    "    'bgr': 0.0,\n",
    "    'mosaic': 1.0,\n",
    "    'mixup': 0.0,\n",
    "    'copy_paste': 0.0,\n",
    "    'auto_augment': 'randaugment'\n",
    "}\n"
   ]
  },
  {
   "cell_type": "code",
   "execution_count": 5,
   "id": "0004f986",
   "metadata": {
    "execution": {
     "iopub.execute_input": "2024-10-09T00:39:08.538390Z",
     "iopub.status.busy": "2024-10-09T00:39:08.538092Z",
     "iopub.status.idle": "2024-10-09T00:39:08.542580Z",
     "shell.execute_reply": "2024-10-09T00:39:08.541687Z"
    },
    "papermill": {
     "duration": 0.014369,
     "end_time": "2024-10-09T00:39:08.544500",
     "exception": false,
     "start_time": "2024-10-09T00:39:08.530131",
     "status": "completed"
    },
    "tags": []
   },
   "outputs": [],
   "source": [
    "params = {\n",
    "    'epochs': 100,\n",
    "    'imgsz': 640,\n",
    "    'patience': 20,\n",
    "    'batch': 8,\n",
    "    'optimizer': 'RAdam',\n",
    "    'iterations': 13,\n",
    "    'plots': False,\n",
    "    'save': False,\n",
    "    'val': True\n",
    "}"
   ]
  },
  {
   "cell_type": "markdown",
   "id": "fb8a11f8",
   "metadata": {
    "papermill": {
     "duration": 0.007194,
     "end_time": "2024-10-09T00:39:08.558846",
     "exception": false,
     "start_time": "2024-10-09T00:39:08.551652",
     "status": "completed"
    },
    "tags": []
   },
   "source": [
    "## Prepare model\n",
    "We'll download the rt-detr model and prepare it before training."
   ]
  },
  {
   "cell_type": "code",
   "execution_count": null,
   "id": "0fa60189",
   "metadata": {
    "execution": {
     "iopub.execute_input": "2024-10-09T00:39:08.574064Z",
     "iopub.status.busy": "2024-10-09T00:39:08.573806Z",
     "iopub.status.idle": "2024-10-09T00:39:14.564565Z",
     "shell.execute_reply": "2024-10-09T00:39:14.563514Z"
    },
    "papermill": {
     "duration": 6.000962,
     "end_time": "2024-10-09T00:39:14.567003",
     "exception": false,
     "start_time": "2024-10-09T00:39:08.566041",
     "status": "completed"
    },
    "tags": []
   },
   "outputs": [],
   "source": [
    "from ultralytics import RTDETR\n",
    "\n",
    "model = RTDETR('rtdetr-l.pt')"
   ]
  },
  {
   "cell_type": "markdown",
   "id": "ebf04630",
   "metadata": {
    "papermill": {
     "duration": 0.008098,
     "end_time": "2024-10-09T00:39:14.583664",
     "exception": false,
     "start_time": "2024-10-09T00:39:14.575566",
     "status": "completed"
    },
    "tags": []
   },
   "source": [
    "### Visualize the model information"
   ]
  },
  {
   "cell_type": "code",
   "execution_count": null,
   "id": "6ccb5c4c",
   "metadata": {
    "execution": {
     "iopub.execute_input": "2024-10-09T00:39:14.600836Z",
     "iopub.status.busy": "2024-10-09T00:39:14.600400Z",
     "iopub.status.idle": "2024-10-09T00:39:17.753043Z",
     "shell.execute_reply": "2024-10-09T00:39:17.752128Z"
    },
    "papermill": {
     "duration": 3.163694,
     "end_time": "2024-10-09T00:39:17.755211",
     "exception": false,
     "start_time": "2024-10-09T00:39:14.591517",
     "status": "completed"
    },
    "tags": []
   },
   "outputs": [],
   "source": [
    "model.info()"
   ]
  },
  {
   "cell_type": "markdown",
   "id": "c149a3be",
   "metadata": {
    "papermill": {
     "duration": 0.007999,
     "end_time": "2024-10-09T00:39:17.771480",
     "exception": false,
     "start_time": "2024-10-09T00:39:17.763481",
     "status": "completed"
    },
    "tags": []
   },
   "source": [
    "## Tune the model\n",
    "We'll fine tune the model with the potato dataset and finish the logger."
   ]
  },
  {
   "cell_type": "code",
   "execution_count": null,
   "id": "b8d5d4b6",
   "metadata": {
    "execution": {
     "iopub.execute_input": "2024-10-09T00:39:17.788889Z",
     "iopub.status.busy": "2024-10-09T00:39:17.788463Z",
     "iopub.status.idle": "2024-10-09T12:30:16.058398Z",
     "shell.execute_reply": "2024-10-09T12:30:16.057440Z"
    },
    "papermill": {
     "duration": 42658.280948,
     "end_time": "2024-10-09T12:30:16.060515",
     "exception": false,
     "start_time": "2024-10-09T00:39:17.779567",
     "status": "completed"
    },
    "tags": []
   },
   "outputs": [],
   "source": [
    "model.tune(\n",
    "    project=project_name, name=name, data='data.yaml', device=[0, 1], **params\n",
    ")"
   ]
  },
  {
   "cell_type": "markdown",
   "id": "d2129b76",
   "metadata": {
    "papermill": {
     "duration": 8.491222,
     "end_time": "2024-10-09T12:30:33.142998",
     "exception": false,
     "start_time": "2024-10-09T12:30:24.651776",
     "status": "completed"
    },
    "tags": []
   },
   "source": [
    "## Finish the logger"
   ]
  },
  {
   "cell_type": "code",
   "execution_count": null,
   "id": "926c01a8",
   "metadata": {
    "execution": {
     "iopub.execute_input": "2024-10-09T12:30:50.814773Z",
     "iopub.status.busy": "2024-10-09T12:30:50.814367Z",
     "iopub.status.idle": "2024-10-09T12:30:52.399979Z",
     "shell.execute_reply": "2024-10-09T12:30:52.399306Z"
    },
    "papermill": {
     "duration": 10.434863,
     "end_time": "2024-10-09T12:30:52.401920",
     "exception": false,
     "start_time": "2024-10-09T12:30:41.967057",
     "status": "completed"
    },
    "tags": []
   },
   "outputs": [],
   "source": [
    "wandb.finish()"
   ]
  }
 ],
 "metadata": {
  "kaggle": {
   "accelerator": "nvidiaTeslaT4",
   "dataSources": [
    {
     "datasetId": 5823095,
     "sourceId": 9556392,
     "sourceType": "datasetVersion"
    }
   ],
   "dockerImageVersionId": 30787,
   "isGpuEnabled": true,
   "isInternetEnabled": true,
   "language": "python",
   "sourceType": "notebook"
  },
  "kernelspec": {
   "display_name": "Python 3",
   "language": "python",
   "name": "python3"
  },
  "language_info": {
   "codemirror_mode": {
    "name": "ipython",
    "version": 3
   },
   "file_extension": ".py",
   "mimetype": "text/x-python",
   "name": "python",
   "nbconvert_exporter": "python",
   "pygments_lexer": "ipython3",
   "version": "3.12.7"
  },
  "papermill": {
   "default_parameters": {},
   "duration": 42749.529323,
   "end_time": "2024-10-09T12:31:03.482651",
   "environment_variables": {},
   "exception": null,
   "input_path": "__notebook__.ipynb",
   "output_path": "__notebook__.ipynb",
   "parameters": {},
   "start_time": "2024-10-09T00:38:33.953328",
   "version": "2.5.0"
  },
  "widgets": {
   "application/vnd.jupyter.widget-state+json": {
    "state": {
     "220d9605912c49c98700c9cede2ff016": {
      "model_module": "@jupyter-widgets/controls",
      "model_module_version": "2.0.0",
      "model_name": "DropdownModel",
      "state": {
       "_dom_classes": [],
       "_model_module": "@jupyter-widgets/controls",
       "_model_module_version": "2.0.0",
       "_model_name": "DropdownModel",
       "_options_labels": [
        "tune",
        "train"
       ],
       "_view_count": null,
       "_view_module": "@jupyter-widgets/controls",
       "_view_module_version": "2.0.0",
       "_view_name": "DropdownView",
       "description": "Select one:",
       "description_allow_html": false,
       "disabled": false,
       "index": 0,
       "layout": "IPY_MODEL_731bd29d74dd443ab137436625696b57",
       "style": "IPY_MODEL_9e6401c7743c4a23b276a883693cce35",
       "tabbable": null,
       "tooltip": null
      }
     },
     "731bd29d74dd443ab137436625696b57": {
      "model_module": "@jupyter-widgets/base",
      "model_module_version": "2.0.0",
      "model_name": "LayoutModel",
      "state": {
       "_model_module": "@jupyter-widgets/base",
       "_model_module_version": "2.0.0",
       "_model_name": "LayoutModel",
       "_view_count": null,
       "_view_module": "@jupyter-widgets/base",
       "_view_module_version": "2.0.0",
       "_view_name": "LayoutView",
       "align_content": null,
       "align_items": null,
       "align_self": null,
       "border_bottom": null,
       "border_left": null,
       "border_right": null,
       "border_top": null,
       "bottom": null,
       "display": null,
       "flex": null,
       "flex_flow": null,
       "grid_area": null,
       "grid_auto_columns": null,
       "grid_auto_flow": null,
       "grid_auto_rows": null,
       "grid_column": null,
       "grid_gap": null,
       "grid_row": null,
       "grid_template_areas": null,
       "grid_template_columns": null,
       "grid_template_rows": null,
       "height": null,
       "justify_content": null,
       "justify_items": null,
       "left": null,
       "margin": null,
       "max_height": null,
       "max_width": null,
       "min_height": null,
       "min_width": null,
       "object_fit": null,
       "object_position": null,
       "order": null,
       "overflow": null,
       "padding": null,
       "right": null,
       "top": null,
       "visibility": null,
       "width": null
      }
     },
     "9e6401c7743c4a23b276a883693cce35": {
      "model_module": "@jupyter-widgets/controls",
      "model_module_version": "2.0.0",
      "model_name": "DescriptionStyleModel",
      "state": {
       "_model_module": "@jupyter-widgets/controls",
       "_model_module_version": "2.0.0",
       "_model_name": "DescriptionStyleModel",
       "_view_count": null,
       "_view_module": "@jupyter-widgets/base",
       "_view_module_version": "2.0.0",
       "_view_name": "StyleView",
       "description_width": ""
      }
     }
    },
    "version_major": 2,
    "version_minor": 0
   }
  }
 },
 "nbformat": 4,
 "nbformat_minor": 5
}
