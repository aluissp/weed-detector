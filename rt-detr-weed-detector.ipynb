{
	"cells": [
		{
			"cell_type": "markdown",
			"id": "7c9eccf8",
			"metadata": {
				"papermill": {
					"duration": 0.003969,
					"end_time": "2024-05-12T15:46:19.233930",
					"exception": false,
					"start_time": "2024-05-12T15:46:19.229961",
					"status": "completed"
				},
				"tags": []
			},
			"source": [
				"# Train rt-detr to detect weeds in potato fields\n",
				"\n",
				"In this notebook we'll train a [rt-detr](https://docs.ultralytics.com/models/rtdetr/) model to detect weeds in a potato fields. \n",
				"The target weeds are:\n",
				"- kikuyo\n",
				"- lengua de vaca\n",
				"- diente de león\n",
				"\n",
				"These weeds are common in potatoes fields. The images was captured in 9-10 meters height with a drone. Then, the images was selected and cropped \n",
				"to 1920x1920 pixels. Finally, the images was labeled with Roboflow."
			]
		},
		{
			"cell_type": "markdown",
			"id": "942dfb6e",
			"metadata": {
				"papermill": {
					"duration": 0.003291,
					"end_time": "2024-05-12T15:46:19.240876",
					"exception": false,
					"start_time": "2024-05-12T15:46:19.237585",
					"status": "completed"
				},
				"tags": [],
				"vscode": {
					"languageId": "plaintext"
				}
			},
			"source": [
				"## Install dependencies\n",
				"First of all, we'll check the GPU, and install the dependencies."
			]
		},
		{
			"cell_type": "code",
			"execution_count": null,
			"id": "89c5c0fb",
			"metadata": {
				"execution": {
					"iopub.execute_input": "2024-05-12T15:46:19.249413Z",
					"iopub.status.busy": "2024-05-12T15:46:19.249047Z",
					"iopub.status.idle": "2024-05-12T15:46:39.964511Z",
					"shell.execute_reply": "2024-05-12T15:46:39.963208Z"
				},
				"papermill": {
					"duration": 20.722635,
					"end_time": "2024-05-12T15:46:39.966983",
					"exception": false,
					"start_time": "2024-05-12T15:46:19.244348",
					"status": "completed"
				},
				"tags": []
			},
			"outputs": [],
			"source": [
				"!python --version\n",
				"!cat /etc/os-release"
			]
		},
		{
			"cell_type": "code",
			"execution_count": null,
			"metadata": {},
			"outputs": [],
			"source": [
				"!pip install -q coco-eval pycocotools supervision ultralytics\n",
				"!pip install -q wandb ipywidgets --upgrade"
			]
		},
		{
			"cell_type": "markdown",
			"id": "65f06377",
			"metadata": {
				"papermill": {
					"duration": 0.003416,
					"end_time": "2024-05-12T15:46:39.974323",
					"exception": false,
					"start_time": "2024-05-12T15:46:39.970907",
					"status": "completed"
				},
				"tags": []
			},
			"source": [
				"## Initialize weights & biases\n",
				"We'll use weights & biases to log the training process."
			]
		},
		{
			"cell_type": "code",
			"execution_count": null,
			"id": "232423e3",
			"metadata": {
				"execution": {
					"iopub.execute_input": "2024-05-12T15:46:39.982842Z",
					"iopub.status.busy": "2024-05-12T15:46:39.982525Z",
					"iopub.status.idle": "2024-05-12T15:46:58.887765Z",
					"shell.execute_reply": "2024-05-12T15:46:58.886704Z"
				},
				"papermill": {
					"duration": 18.912217,
					"end_time": "2024-05-12T15:46:58.890010",
					"exception": false,
					"start_time": "2024-05-12T15:46:39.977793",
					"status": "completed"
				},
				"tags": []
			},
			"outputs": [],
			"source": [
				"import wandb\n",
				"from kaggle_secrets import UserSecretsClient\n",
				"\n",
				"project_name = 'rt-detr-potatoes-final'\n",
				"name = 'train-default-config'\n",
				"user_secrets = UserSecretsClient()\n",
				"key = user_secrets.get_secret('wandb')\n",
				"\n",
				"\n",
				"wandb.login(key=key)\n",
				"wandb.init(project=project_name, name=name, job_type='training')"
			]
		},
		{
			"cell_type": "markdown",
			"id": "a46caf49",
			"metadata": {
				"papermill": {
					"duration": 0.004956,
					"end_time": "2024-05-12T15:46:58.900352",
					"exception": false,
					"start_time": "2024-05-12T15:46:58.895396",
					"status": "completed"
				},
				"tags": []
			},
			"source": [
				"## Create data.yaml\n",
				"We'll create a data.yaml file with the classes and the paths to the images."
			]
		},
		{
			"cell_type": "code",
			"execution_count": 3,
			"id": "6c1e0fc5",
			"metadata": {
				"execution": {
					"iopub.execute_input": "2024-05-12T15:46:58.911733Z",
					"iopub.status.busy": "2024-05-12T15:46:58.911422Z",
					"iopub.status.idle": "2024-05-12T15:46:58.921074Z",
					"shell.execute_reply": "2024-05-12T15:46:58.920345Z"
				},
				"papermill": {
					"duration": 0.017755,
					"end_time": "2024-05-12T15:46:58.923096",
					"exception": false,
					"start_time": "2024-05-12T15:46:58.905341",
					"status": "completed"
				},
				"tags": []
			},
			"outputs": [],
			"source": [
				"import yaml\n",
				"\n",
				"data_yaml = '''\n",
				"path: /kaggle/input/potatoes-weeds-dataset/potatoes-dataset-final.v2.yolov8\n",
				"\n",
				"train: train/images\n",
				"val: valid/images\n",
				"test: test/images\n",
				"\n",
				"names:\n",
				"  0: diente_leon\n",
				"  1: kikuyo\n",
				"  2: lengua_vaca\n",
				"  3: otros\n",
				"  4: papa\n",
				"\n",
				"\n",
				"# Train settings -------------------------------------------------------------------------------------------------------\n",
				"imgsz: 640 # (int | list) input images size as int for train and val modes, or list[w,h] for predict and export modes\n",
				"epochs: 100 # (int) number of epochs to train for\n",
				"patience: 100 # (int) epochs to wait for no observable improvement for early stopping of training\n",
				"batch: 8 # (int) number of images per batch (-1 for AutoBatch)\n",
				"optimizer: auto # (str) optimizer to use, choices=[SGD, Adam, Adamax, AdamW, NAdam, RAdam, RMSProp, auto]\n",
				"\n",
				"# Val/Test settings ----------------------------------------------------------------------------------------------------\n",
				"split: val # (str) dataset split to use for validation, i.e. 'val', 'test' or 'train'\n",
				"save_json: True # (bool) save results to JSON file\n",
				"iou: 0.7 # (float) intersection over union (IoU) threshold for NMS\n",
				"max_det: 300 # (int) maximum number of detections per image\n",
				"\n",
				"# Hyperparameters ------------------------------------------------------------------------------------------------------\n",
				"lr0: 0.01 # (float) initial learning rate (i.e. SGD=1E-2, Adam=1E-3)\n",
				"lrf: 0.01 # (float) final learning rate (lr0 * lrf)\n",
				"momentum: 0.937 # (float) SGD momentum/Adam beta1\n",
				"weight_decay: 0.0005 # (float) optimizer weight decay 5e-4\n",
				"hsv_h: 0.015 # (float) image HSV-Hue augmentation (fraction)\n",
				"hsv_s: 0.7 # (float) image HSV-Saturation augmentation (fraction)\n",
				"hsv_v: 0.4 # (float) image HSV-Value augmentation (fraction)\n",
				"degrees: 0.0 # (float) image rotation (+/- deg)\n",
				"translate: 0.1 # (float) image translation (+/- fraction)\n",
				"flipud: 0.0 # (float) image flip up-down (probability)\n",
				"fliplr: 0.5 # (float) image flip left-right (probability)\n",
				"mosaic: 1.0 # (float) image mosaic (probability)\n",
				"erasing: 0.4 # (float) random cutout (probability)\n",
				"crop_fraction: 1.0 # (float) fraction of image to crop\n",
				"'''\n",
				"\n",
				"data = yaml.safe_load(data_yaml)\n",
				"\n",
				"with open('data.yaml', 'w') as file:\n",
				"    yaml.dump(data, file)"
			]
		},
		{
			"cell_type": "markdown",
			"id": "0d92fe0b",
			"metadata": {
				"papermill": {
					"duration": 0.005138,
					"end_time": "2024-05-12T15:46:58.933413",
					"exception": false,
					"start_time": "2024-05-12T15:46:58.928275",
					"status": "completed"
				},
				"tags": []
			},
			"source": [
				"## Prepare model\n",
				"We'll download the rt-detr model and prepare it before training."
			]
		},
		{
			"cell_type": "code",
			"execution_count": null,
			"id": "901bc0a1",
			"metadata": {
				"execution": {
					"iopub.execute_input": "2024-05-12T15:46:58.944649Z",
					"iopub.status.busy": "2024-05-12T15:46:58.944359Z",
					"iopub.status.idle": "2024-05-12T15:47:08.281125Z",
					"shell.execute_reply": "2024-05-12T15:47:08.280081Z"
				},
				"papermill": {
					"duration": 9.345794,
					"end_time": "2024-05-12T15:47:08.284290",
					"exception": false,
					"start_time": "2024-05-12T15:46:58.938496",
					"status": "completed"
				},
				"tags": []
			},
			"outputs": [],
			"source": [
				"from ultralytics import RTDETR\n",
				"from wandb.integration.ultralytics import add_wandb_callback\n",
				"\n",
				"\n",
				"# Load a COCO-pretrained RT-DETR-l model\n",
				"model = RTDETR('rtdetr-l.pt')\n",
				"\n",
				"\n",
				"# Add W&B Callback for Ultralytics\n",
				"add_wandb_callback(model, enable_model_checkpointing=True)"
			]
		},
		{
			"cell_type": "markdown",
			"id": "fefa24a4",
			"metadata": {
				"papermill": {
					"duration": 0.006956,
					"end_time": "2024-05-12T15:47:08.298467",
					"exception": false,
					"start_time": "2024-05-12T15:47:08.291511",
					"status": "completed"
				},
				"tags": []
			},
			"source": [
				"## Train the model\n",
				"We'll train the model."
			]
		},
		{
			"cell_type": "code",
			"execution_count": null,
			"id": "0dac930c",
			"metadata": {
				"execution": {
					"iopub.execute_input": "2024-05-12T15:47:08.314724Z",
					"iopub.status.busy": "2024-05-12T15:47:08.314317Z",
					"iopub.status.idle": "2024-05-12T16:05:39.984002Z",
					"shell.execute_reply": "2024-05-12T16:05:39.982833Z"
				},
				"papermill": {
					"duration": 1111.681777,
					"end_time": "2024-05-12T16:05:39.986655",
					"exception": false,
					"start_time": "2024-05-12T15:47:08.304878",
					"status": "completed"
				},
				"tags": []
			},
			"outputs": [],
			"source": [
				"results = model.train(\n",
				"    project=project_name, name=name, data='data.yaml', device=[0, 1], batch=8, augment=True\n",
				")\n",
				"results = model.val()\n",
				"\n",
				"wandb.finish()"
			]
		},
		{
			"cell_type": "markdown",
			"id": "ba046a74",
			"metadata": {
				"papermill": {
					"duration": 0.11166,
					"end_time": "2024-05-12T16:05:40.213334",
					"exception": false,
					"start_time": "2024-05-12T16:05:40.101674",
					"status": "completed"
				},
				"tags": []
			},
			"source": [
				"## Save the model\n",
				"We'll save the model in the output folder."
			]
		},
		{
			"cell_type": "code",
			"execution_count": null,
			"id": "2e678a4d",
			"metadata": {
				"execution": {
					"iopub.execute_input": "2024-05-12T16:05:40.436012Z",
					"iopub.status.busy": "2024-05-12T16:05:40.435227Z",
					"iopub.status.idle": "2024-05-12T16:05:46.662639Z",
					"shell.execute_reply": "2024-05-12T16:05:46.661638Z"
				},
				"papermill": {
					"duration": 6.341796,
					"end_time": "2024-05-12T16:05:46.664737",
					"exception": false,
					"start_time": "2024-05-12T16:05:40.322941",
					"status": "completed"
				},
				"tags": []
			},
			"outputs": [],
			"source": [
				"model.export()"
			]
		}
	],
	"metadata": {
		"kaggle": {
			"accelerator": "nvidiaTeslaT4",
			"dataSources": [
				{
					"datasetId": 4991980,
					"sourceId": 8392023,
					"sourceType": "datasetVersion"
				}
			],
			"isGpuEnabled": true,
			"isInternetEnabled": true,
			"language": "python",
			"sourceType": "notebook"
		},
		"kernelspec": {
			"display_name": "ia",
			"language": "python",
			"name": "python3"
		},
		"language_info": {
			"codemirror_mode": {
				"name": "ipython",
				"version": 3
			},
			"file_extension": ".py",
			"mimetype": "text/x-python",
			"name": "python",
			"version": "3.12.2"
		}
	},
	"nbformat": 4,
	"nbformat_minor": 5
}
